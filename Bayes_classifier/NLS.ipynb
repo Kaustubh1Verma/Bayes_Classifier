{
 "cells": [
  {
   "cell_type": "code",
   "execution_count": 43,
   "metadata": {},
   "outputs": [],
   "source": [
    "import numpy as np\n",
    "from matplotlib import pyplot as plt\n",
    "data1 = []\n",
    "data2 = []\n",
    "data3 = []\n",
    "def read_from_file(ls_read):\n",
    "    data = []\n",
    "    for line in ls_read.readlines():\n",
    "        first = float(line.split(' ')[0])\n",
    "        second = float(line.split(' ')[1].replace(\"\\n\",\"\"))\n",
    "        data.append([first,second])\n",
    "    return data"
   ]
  },
  {
   "cell_type": "code",
   "execution_count": 2,
   "metadata": {},
   "outputs": [],
   "source": [
    "def read_from_nonlinear(ls_read):\n",
    "    data = []\n",
    "    count = 0\n",
    "    for line in ls_read.readlines():\n",
    "        if(count==0):\n",
    "            count+=1\n",
    "            continue\n",
    "            \n",
    "            \n",
    "        first = float(line.split(' ')[0])\n",
    "        second = float(line.split(' ')[1].replace(\"\\n\",\"\"))\n",
    "        data.append([first,second])\n",
    "        \n",
    "    return data[0:500],data[500:1000],data[1000:1500]\n",
    "\n",
    "ls_read_class11 = open('group16.txt')\n",
    "data1,data2,data3 = read_from_nonlinear(ls_read_class11)"
   ]
  },
  {
   "cell_type": "code",
   "execution_count": 8,
   "metadata": {},
   "outputs": [
    {
     "name": "stdout",
     "output_type": "stream",
     "text": [
      "500\n",
      "500\n",
      "500\n"
     ]
    }
   ],
   "source": [
    "#print(data3)\n",
    "print(len(data1))\n",
    "print(len(data2))\n",
    "print(len(data3))\n"
   ]
  },
  {
   "cell_type": "code",
   "execution_count": 9,
   "metadata": {},
   "outputs": [
    {
     "name": "stdout",
     "output_type": "stream",
     "text": [
      "375 375 375\n"
     ]
    }
   ],
   "source": [
    "n_points = len(data1)\n",
    "split1 = int(0.75*len(data1))\n",
    "split2 = int(0.75*len(data2))\n",
    "split3 = int(0.75*len(data3))\n",
    "print(split1,split2,split3)"
   ]
  },
  {
   "cell_type": "code",
   "execution_count": 10,
   "metadata": {},
   "outputs": [],
   "source": [
    "class1_train = data1[0:split1]\n",
    "class2_train = data2[0:split2]\n",
    "class3_train = data3[0:split3]\n",
    "\n",
    "class1_test = data1[split1:]\n",
    "class2_test = data2[split2:]\n",
    "class3_test = data3[split3:]"
   ]
  },
  {
   "cell_type": "code",
   "execution_count": 11,
   "metadata": {},
   "outputs": [],
   "source": [
    "import math\n",
    "def mean(n):\n",
    "    return sum(n)/float(len(n))\n",
    "\n",
    "def variance(n):\n",
    "    avg = mean(n)\n",
    "    var = sum([pow(x-avg,2) for x in n])/float(len(n)-1)\n",
    "    return var"
   ]
  },
  {
   "cell_type": "code",
   "execution_count": 12,
   "metadata": {},
   "outputs": [],
   "source": [
    "def feature(data,f):\n",
    "    ft = []\n",
    "    for i in range(0,len(data)):\n",
    "        ft.append(data[i][f])\n",
    "    return ft"
   ]
  },
  {
   "cell_type": "code",
   "execution_count": 13,
   "metadata": {},
   "outputs": [],
   "source": [
    "class1 = {}\n",
    "class1['mean'] = [mean(feature(class1_train,0)),mean(feature(class1_train,1))]\n",
    "class1['variance'] = [variance(feature(class1_train,0)),variance(feature(class1_train,1))]\n",
    "\n",
    "class2 = {}\n",
    "class2['mean'] = [mean(feature(class2_train,0)),mean(feature(class2_train,1))]\n",
    "class2['variance'] = [variance(feature(class2_train,0)),variance(feature(class2_train,1))]\n",
    "\n",
    "class3 = {}\n",
    "class3['mean'] = [mean(feature(class3_train,0)),mean(feature(class3_train,1))]\n",
    "class3['variance'] = [variance(feature(class3_train,0)),variance(feature(class3_train,1))]"
   ]
  },
  {
   "cell_type": "code",
   "execution_count": 14,
   "metadata": {},
   "outputs": [
    {
     "name": "stdout",
     "output_type": "stream",
     "text": [
      "{'mean': [1.5510134160000004, 0.412353461333333], 'variance': [1.4915551174350354, 0.27654870231154316]} {'mean': [-0.1481404, -0.8479228853333334], 'variance': [0.8775296968664594, 0.18709389550539046]} {'mean': [3.5518595999999976, -0.8479228853333334], 'variance': [0.8775296968664597, 0.18709389550539046]}\n"
     ]
    }
   ],
   "source": [
    "print(class1,class2,class3)"
   ]
  },
  {
   "cell_type": "markdown",
   "metadata": {},
   "source": [
    "CASE 1:\n",
    "Covariance matrix for all the classes is the same and is σ 2 I"
   ]
  },
  {
   "cell_type": "code",
   "execution_count": 15,
   "metadata": {},
   "outputs": [],
   "source": [
    "#mean_variance_Class1 = (class1[variance[0]] + class1.variance[1])/2.0\n",
    "\n",
    "\n",
    "mean_variance_class1 = (class1['variance'][0] + class1['variance'][1])/2\n",
    "mean_variance_class2 = (class2['variance'][0] + class2['variance'][1])/2\n",
    "mean_variance_class3 = (class3['variance'][0] + class3['variance'][1])/2"
   ]
  },
  {
   "cell_type": "code",
   "execution_count": 16,
   "metadata": {},
   "outputs": [
    {
     "name": "stdout",
     "output_type": "stream",
     "text": [
      "0.8840519098732893 0.532311796185925 0.5323117961859251\n"
     ]
    }
   ],
   "source": [
    "print(mean_variance_class1,mean_variance_class2,mean_variance_class3)"
   ]
  },
  {
   "cell_type": "code",
   "execution_count": 17,
   "metadata": {},
   "outputs": [
    {
     "name": "stdout",
     "output_type": "stream",
     "text": [
      "0.6495585007483798\n"
     ]
    }
   ],
   "source": [
    "mean_variance_all = (mean_variance_class1 + mean_variance_class2 + mean_variance_class3)/3\n",
    "print(mean_variance_all)"
   ]
  },
  {
   "cell_type": "code",
   "execution_count": 18,
   "metadata": {},
   "outputs": [],
   "source": [
    "covariance_matrix1 = np.zeros((2, 2), dtype=float)\n",
    "np.fill_diagonal(covariance_matrix1, mean_variance_all)"
   ]
  },
  {
   "cell_type": "code",
   "execution_count": 19,
   "metadata": {},
   "outputs": [
    {
     "name": "stdout",
     "output_type": "stream",
     "text": [
      "[[ 0.6495585  0.       ]\n",
      " [ 0.         0.6495585]]\n"
     ]
    }
   ],
   "source": [
    "print(covariance_matrix1)"
   ]
  },
  {
   "cell_type": "markdown",
   "metadata": {},
   "source": [
    "CASE 2: Full Covariance matrix for all the classes is the same and is Σ."
   ]
  },
  {
   "cell_type": "code",
   "execution_count": 20,
   "metadata": {},
   "outputs": [],
   "source": [
    "def covar(data):\n",
    "    x = []\n",
    "    y = []\n",
    "    for i in data:\n",
    "        x.append(i[0])\n",
    "        y.append(i[1])\n",
    "    \n",
    "    return np.cov(x,y)\n"
   ]
  },
  {
   "cell_type": "code",
   "execution_count": 21,
   "metadata": {},
   "outputs": [
    {
     "data": {
      "text/plain": [
       "array([[ 1.49155512, -0.0390656 ],\n",
       "       [-0.0390656 ,  0.2765487 ]])"
      ]
     },
     "execution_count": 21,
     "metadata": {},
     "output_type": "execute_result"
    }
   ],
   "source": [
    "covar(class1_train)"
   ]
  },
  {
   "cell_type": "code",
   "execution_count": 22,
   "metadata": {},
   "outputs": [
    {
     "name": "stdout",
     "output_type": "stream",
     "text": [
      "{'mean': [1.5510134160000004, 0.412353461333333], 'variance': [1.4915551174350354, 0.27654870231154316]} {'mean': [-0.1481404, -0.8479228853333334], 'variance': [0.8775296968664594, 0.18709389550539046]} {'mean': [3.5518595999999976, -0.8479228853333334], 'variance': [0.8775296968664597, 0.18709389550539046]}\n"
     ]
    }
   ],
   "source": [
    "print(class1,class2,class3)"
   ]
  },
  {
   "cell_type": "code",
   "execution_count": 23,
   "metadata": {},
   "outputs": [
    {
     "name": "stdout",
     "output_type": "stream",
     "text": [
      "[[ 1.08220484 -0.00145995]\n",
      " [-0.00145995  0.21691216]]\n"
     ]
    }
   ],
   "source": [
    "covariance_matrix2 = (covar(class1_train) + covar(class2_train) + covar(class3_train))/3\n",
    "print(covariance_matrix2)"
   ]
  },
  {
   "cell_type": "markdown",
   "metadata": {},
   "source": [
    "Covariance matric is diagonal and is different for each class"
   ]
  },
  {
   "cell_type": "code",
   "execution_count": 24,
   "metadata": {},
   "outputs": [],
   "source": [
    "def diag_cov(data):\n",
    "    x = np.zeros((2, 2), dtype=float)\n",
    "    for i in range(0,2):\n",
    "        x[i][i] = data['variance'][i]\n",
    "    return x    "
   ]
  },
  {
   "cell_type": "code",
   "execution_count": 25,
   "metadata": {},
   "outputs": [
    {
     "name": "stdout",
     "output_type": "stream",
     "text": [
      "[[ 1.49155512  0.        ]\n",
      " [ 0.          0.2765487 ]]\n"
     ]
    }
   ],
   "source": [
    "print(diag_cov(class1))"
   ]
  },
  {
   "cell_type": "code",
   "execution_count": 26,
   "metadata": {},
   "outputs": [
    {
     "name": "stdout",
     "output_type": "stream",
     "text": [
      "[[ 0.8775297  0.       ]\n",
      " [ 0.         0.1870939]]\n"
     ]
    }
   ],
   "source": [
    "covariance_matrix31 = diag_cov(class1)\n",
    "covariance_matrix32 = diag_cov(class2)\n",
    "covariance_matrix33 = diag_cov(class3)\n",
    "\n",
    "print(covariance_matrix33)"
   ]
  },
  {
   "cell_type": "markdown",
   "metadata": {},
   "source": [
    "Full Covariance matrix for each class is different"
   ]
  },
  {
   "cell_type": "code",
   "execution_count": 27,
   "metadata": {},
   "outputs": [
    {
     "name": "stdout",
     "output_type": "stream",
     "text": [
      "[[ 1.49155512 -0.0390656 ]\n",
      " [-0.0390656   0.2765487 ]]\n",
      "[[ 0.8775297   0.01734287]\n",
      " [ 0.01734287  0.1870939 ]]\n",
      "[[ 0.8775297   0.01734287]\n",
      " [ 0.01734287  0.1870939 ]]\n"
     ]
    }
   ],
   "source": [
    "covariance_matrix41 = covar(class1_train) \n",
    "covariance_matrix42 = covar(class2_train)\n",
    "covariance_matrix43 = covar(class3_train)\n",
    "print(covariance_matrix41)\n",
    "print(covariance_matrix42)\n",
    "print(covariance_matrix43)\n",
    "    "
   ]
  },
  {
   "cell_type": "markdown",
   "metadata": {},
   "source": [
    "Classifier for case1:"
   ]
  },
  {
   "cell_type": "code",
   "execution_count": 28,
   "metadata": {},
   "outputs": [],
   "source": [
    "def g(x,mean,variance):\n",
    "    \n",
    "    m = np.array(mean)\n",
    "    \n",
    "    w_i = []\n",
    "    for i in mean:\n",
    "        w_i.append(i/variance)\n",
    "    \n",
    "    #considering P(ci) is same for all classes neglecting term\n",
    "    w_i0 = (np.matmul(m,m.transpose()))/(2*variance)\n",
    "    \n",
    "    #matmul does the transpose to get the result\n",
    "    result = np.matmul(w_i,x) - w_i0\n",
    "    \n",
    "    return result"
   ]
  },
  {
   "cell_type": "code",
   "execution_count": 29,
   "metadata": {},
   "outputs": [
    {
     "name": "stdout",
     "output_type": "stream",
     "text": [
      "-1.83956248879 -1.20702519195 -11.3178049176\n"
     ]
    }
   ],
   "source": [
    "pred1 = g(class1_test[10],class1['mean'],mean_variance_all)\n",
    "pred2 = g(class1_test[10],class2['mean'],mean_variance_all)\n",
    "pred3 = g(class1_test[10],class3['mean'],mean_variance_all)\n",
    "\n",
    "print(pred1,pred2,pred3)\n",
    "\n",
    "#Hence for first class max pred value of classifier"
   ]
  },
  {
   "cell_type": "markdown",
   "metadata": {},
   "source": [
    "CASE 2 :"
   ]
  },
  {
   "cell_type": "code",
   "execution_count": 30,
   "metadata": {},
   "outputs": [],
   "source": [
    "def g2(x,cov_matrix,mean):\n",
    "    cov = np.array(cov_matrix)\n",
    "    w_i = np.matmul(np.linalg.inv(cov),mean)\n",
    "    \n",
    "    w_i0 = 0.5 * np.matmul(np.matmul(mean,np.linalg.inv(cov)),mean)\n",
    "    \n",
    "    return (np.matmul(w_i,x) - w_i0)"
   ]
  },
  {
   "cell_type": "code",
   "execution_count": 31,
   "metadata": {},
   "outputs": [
    {
     "name": "stdout",
     "output_type": "stream",
     "text": [
      "-3.93863546152 2.85666115634 -3.5197112964\n"
     ]
    }
   ],
   "source": [
    "pred1 = g2(class2_test[0],covariance_matrix2,class1['mean'])\n",
    "pred2 = g2(class2_test[0],covariance_matrix2,class2['mean'])\n",
    "pred3 = g2(class2_test[0],covariance_matrix2,class3['mean'])\n",
    "print(pred1,pred2,pred3)\n",
    "\n",
    "#Hence for second class max pred value of classifier"
   ]
  },
  {
   "cell_type": "markdown",
   "metadata": {},
   "source": [
    "CASE 3: diagonal different"
   ]
  },
  {
   "cell_type": "code",
   "execution_count": 32,
   "metadata": {},
   "outputs": [],
   "source": [
    "#covariance_matrix31/2/3\n",
    "\n",
    "def g34(x,cov_matrix,mean):\n",
    "    cov = np.array(cov_matrix)\n",
    "    inv = np.linalg.inv(cov)\n",
    "    \n",
    "    w1 = 0.5*(np.matmul(np.matmul(x,inv),x) -  2*np.matmul(np.matmul(mean,inv),x) + np.matmul(np.matmul(mean,inv),mean))\n",
    "    \n",
    "    w2 = 0.5*(np.log(np.linalg.det(cov_matrix)))\n",
    "    \n",
    "    return (-w1-w2)\n",
    "    "
   ]
  },
  {
   "cell_type": "code",
   "execution_count": 33,
   "metadata": {},
   "outputs": [
    {
     "name": "stdout",
     "output_type": "stream",
     "text": [
      "-0.291320153729 -7.56012940306 -12.231355613\n"
     ]
    }
   ],
   "source": [
    "pred1 = g34(class1_test[0],covariance_matrix31,class1['mean'])\n",
    "pred2 = g34(class1_test[0],covariance_matrix32,class2['mean'])\n",
    "pred3 = g34(class1_test[0],covariance_matrix33,class3['mean'])\n",
    "\n",
    "print(pred1,pred2,pred3)\n",
    "\n",
    "#correct classify"
   ]
  },
  {
   "cell_type": "markdown",
   "metadata": {},
   "source": [
    "CASE 4:different"
   ]
  },
  {
   "cell_type": "code",
   "execution_count": 34,
   "metadata": {},
   "outputs": [
    {
     "name": "stdout",
     "output_type": "stream",
     "text": [
      "-5.233710849 0.658054412765 -7.09244824108\n"
     ]
    }
   ],
   "source": [
    "pred1 = g34(class2_test[0],covariance_matrix41,class1['mean'])\n",
    "pred2 = g34(class2_test[0],covariance_matrix42,class2['mean'])\n",
    "pred3 = g34(class2_test[0],covariance_matrix43,class3['mean'])\n",
    "\n",
    "print(pred1,pred2,pred3)\n",
    "\n",
    "#correctly classified"
   ]
  },
  {
   "cell_type": "markdown",
   "metadata": {},
   "source": [
    "ACCURACY AND PRECISION"
   ]
  },
  {
   "cell_type": "code",
   "execution_count": 35,
   "metadata": {},
   "outputs": [],
   "source": [
    "#for classifier1:\n",
    "\n",
    "def comp(var1,var2):\n",
    "    return np.isclose(var1, var2, rtol=1e-05, atol=1e-08, equal_nan=False)\n",
    "\n",
    "def arg_max(var1,var2,var3):\n",
    "        MAX = max(var1,var2,var3)\n",
    "        if(comp(MAX,var1)):\n",
    "            return 1\n",
    "        if(comp(MAX,var2)):\n",
    "            return 2\n",
    "        if(comp(MAX,var3)):\n",
    "            return 3\n",
    "\n",
    "\n",
    "def true_for_class(test_data): \n",
    "    count1=0\n",
    "    count2=0\n",
    "    count3=0\n",
    "    for i in test_data:\n",
    "        #pred = arg_max(g(i,class1['mean'],mean_variance_all),g(i,class2['mean'],mean_variance_all),g(i,class3['mean'],mean_variance_all))\n",
    "    \n",
    "        #pred = arg_max(g2(i,covariance_matrix2,class1['mean']),g2(i,covariance_matrix2,class2['mean']),g2(i,covariance_matrix2,class3['mean']))\n",
    "        \n",
    "        \n",
    "        pred = arg_max(g34(i,covariance_matrix31,class1['mean']),g34(i,covariance_matrix32,class2['mean']),g34(i,covariance_matrix33,class3['mean']))\n",
    "        #print(pred)\n",
    "        if(pred==1):\n",
    "            count1+=1   \n",
    "        if(pred==2):\n",
    "            count2+=1\n",
    "        if(pred==3):\n",
    "            count3+=1\n",
    "            \n",
    "            \n",
    "    return [count1,count2,count3]      "
   ]
  },
  {
   "cell_type": "code",
   "execution_count": 36,
   "metadata": {},
   "outputs": [
    {
     "name": "stdout",
     "output_type": "stream",
     "text": [
      "[[100, 12, 13], [12, 113, 0], [15, 0, 110]]\n"
     ]
    }
   ],
   "source": [
    "confusion_matrix = [true_for_class(class1_test), true_for_class(class2_test), true_for_class(class3_test)]\n",
    "print(confusion_matrix)"
   ]
  },
  {
   "cell_type": "code",
   "execution_count": 37,
   "metadata": {},
   "outputs": [],
   "source": [
    "def accuracy(confusion_matrix):\n",
    "    sum = 0\n",
    "    for i in range(0,len(confusion_matrix)):\n",
    "        sum = sum + confusion_matrix[i][i]\n",
    "    return sum/(len(class1_test)+len(class2_test)+len(class3_test))"
   ]
  },
  {
   "cell_type": "code",
   "execution_count": 38,
   "metadata": {},
   "outputs": [
    {
     "name": "stdout",
     "output_type": "stream",
     "text": [
      "0.8613333333333333\n"
     ]
    }
   ],
   "source": [
    "print(accuracy(confusion_matrix))"
   ]
  },
  {
   "cell_type": "code",
   "execution_count": 39,
   "metadata": {},
   "outputs": [],
   "source": [
    "def prec_recall(confusion_matrix):\n",
    "    classify_as = np.sum(confusion_matrix, axis=0)\n",
    "    actual_as = np.sum(confusion_matrix, axis=1)\n",
    "    \n",
    "    precision = []\n",
    "    recall = []\n",
    "    f_score = []\n",
    "    for i in range(0,len(confusion_matrix)):\n",
    "        precision.append(confusion_matrix[i][i]/classify_as[i])\n",
    "        recall.append(confusion_matrix[i][i]/actual_as[i])\n",
    "        f_score.append((precision[i]*recall[i])/((precision[i]+recall[i])/2))\n",
    "        \n",
    "    \n",
    "     \n",
    "    \n",
    "    return precision,recall,np.sum(precision)/3,np.sum(recall)/3,f_score,np.sum(f_score)/3    "
   ]
  },
  {
   "cell_type": "code",
   "execution_count": 40,
   "metadata": {},
   "outputs": [
    {
     "name": "stdout",
     "output_type": "stream",
     "text": [
      "[0.78740157480314965, 0.90400000000000003, 0.89430894308943087] [0.80000000000000004, 0.90400000000000003, 0.88] 0.861903505964 0.861333333333 [0.79365079365079372, 0.90400000000000003, 0.88709677419354838] 0.861582522615\n"
     ]
    }
   ],
   "source": [
    "precision,recall,mean_precison,mean_recall,f_score,meanf = prec_recall(confusion_matrix)\n",
    "print(precision,recall,mean_precison,mean_recall,f_score,meanf)"
   ]
  },
  {
   "cell_type": "code",
   "execution_count": 41,
   "metadata": {},
   "outputs": [],
   "source": [
    "def min_max(data):\n",
    "    f1 = []\n",
    "    f2 = []\n",
    "    for i in range(0,len(data)):\n",
    "        f1.append(data[i][0])\n",
    "        f2.append(data[i][1])\n",
    "    return min(f1),max(f1),min(f2),max(f2)     "
   ]
  },
  {
   "cell_type": "code",
   "execution_count": 42,
   "metadata": {},
   "outputs": [],
   "source": [
    "min1,max1,min2,max2 = min_max(class1_train)"
   ]
  },
  {
   "cell_type": "code",
   "execution_count": 48,
   "metadata": {},
   "outputs": [],
   "source": [
    "def cvc(data_1_train,data_1,data_2_train,data_2):\n",
    "    def points(data1,data2,grid):\n",
    "\n",
    "        x_points1 = []\n",
    "        x_points2 = []\n",
    "        y_points1 = []\n",
    "        y_points2 = []\n",
    "\n",
    "        for i in grid:\n",
    "            if g(i,data1['mean'],mean_variance_all)>g(i,data2['mean'],mean_variance_all):\n",
    "                x_points1.append(i[0])\n",
    "                x_points2.append(i[1])\n",
    "            else:\n",
    "                y_points1.append(i[0])\n",
    "                y_points2.append(i[1])\n",
    "        return x_points1,x_points2,y_points1,y_points2        \n",
    "\n",
    "\n",
    "    min1,max1,min2,max2 = min_max(data_1_train)\n",
    "    min21,max21,min22,max22= min_max(data_2_train)\n",
    "\n",
    "    mini1 = min(min1,max1,min21,max21)\n",
    "    mini2 = min(min2,max2,min22,max22)\n",
    "    maxi1 = max(min1,max1,min21,max21)\n",
    "    maxi2 = max(min2,max2,min22,max22)\n",
    "\n",
    "    mini1 = mini1-1\n",
    "    maxi1 = maxi1+1\n",
    "    mini2 = mini2-1\n",
    "    maxi2 = maxi2+1\n",
    "    x = np.arange(mini1,maxi1 , 0.05)\n",
    "    y = np.arange(mini2, maxi2, 0.05)\n",
    "    X,Y = np.meshgrid(x,y)\n",
    "    XY=np.array([X.flatten(),Y.flatten()]).T\n",
    "    #print(XY)\n",
    "\n",
    "\n",
    "    x_points1,x_points2,y_points1,y_points2 = points(data_1,data_2,XY)\n",
    "\n",
    "\n",
    "    # Main scatter plot and plot annotation\n",
    "    f, ax = plt.subplots(figsize=(7, 7))\n",
    "    ax.scatter(x_points1, x_points2, marker='o', color='green', s=40, alpha=0.2)\n",
    "    ax.scatter(y_points1, y_points2, marker='o', color='#ADD8E6', s=40, alpha=0.2)\n",
    "    ax.scatter([i[0] for i in data_1_train], [i[1] for i in data_1_train], marker='o', color='green', s=40, alpha=1)\n",
    "    ax.scatter([i[0] for i in data_2_train], [i[1] for i in data_2_train], marker='o', color='blue', s=40, alpha=1)\n",
    "    plt.ylabel('x2')\n",
    "    plt.xlabel('x1')\n",
    "    plt.legend(['Class1 (green)', 'Class2 (blue)'], loc='upper right') \n",
    "    plt.title('Decision region plot - class 1 vs class 2')\n",
    "\n",
    "    plt.xlim(mini1, maxi1)\n",
    "    plt.ylim(mini2,maxi2)\n",
    "\n",
    "    plt.show()\n",
    "    f.savefig('cv23.jpg')\n",
    "    "
   ]
  },
  {
   "cell_type": "code",
   "execution_count": 49,
   "metadata": {},
   "outputs": [
    {
     "name": "stderr",
     "output_type": "stream",
     "text": [
      "/usr/lib/python3/dist-packages/matplotlib/collections.py:571: FutureWarning: elementwise comparison failed; returning scalar instead, but in the future will perform elementwise comparison\n",
      "  if self._edgecolors == str('face'):\n"
     ]
    }
   ],
   "source": [
    "#cvc(class1_train,class1,class2_train,class2)\n",
    "#cvc(class1_train,class1,class3_train,class3)\n",
    "cvc(class2_train,class2,class3_train,class3)"
   ]
  },
  {
   "cell_type": "markdown",
   "metadata": {},
   "source": [
    "CASE 2:"
   ]
  },
  {
   "cell_type": "code",
   "execution_count": 50,
   "metadata": {},
   "outputs": [],
   "source": [
    "def cvc2(data_1_train,data_1,data_2_train,data_2):\n",
    "    def points(data1,data2,grid):\n",
    "\n",
    "        x_points1 = []\n",
    "        x_points2 = []\n",
    "        y_points1 = []\n",
    "        y_points2 = []\n",
    "\n",
    "        for i in grid:\n",
    "            if g2(i,covariance_matrix2,data1['mean'])>g2(i,covariance_matrix2,data2['mean']):\n",
    "                x_points1.append(i[0])\n",
    "                x_points2.append(i[1])\n",
    "            else:\n",
    "                y_points1.append(i[0])\n",
    "                y_points2.append(i[1])\n",
    "        return x_points1,x_points2,y_points1,y_points2        \n",
    "\n",
    "\n",
    "    min1,max1,min2,max2 = min_max(data_1_train)\n",
    "    min21,max21,min22,max22= min_max(data_2_train)\n",
    "\n",
    "    mini1 = min(min1,max1,min21,max21)\n",
    "    mini2 = min(min2,max2,min22,max22)\n",
    "    maxi1 = max(min1,max1,min21,max21)\n",
    "    maxi2 = max(min2,max2,min22,max22)\n",
    "\n",
    "    mini1 = mini1-1\n",
    "    maxi1 = maxi1+1\n",
    "    mini2 = mini2-1\n",
    "    maxi2 = maxi2+1\n",
    "    x = np.arange(mini1,maxi1 , 0.05)\n",
    "    y = np.arange(mini2, maxi2, 0.05)\n",
    "    X,Y = np.meshgrid(x,y)\n",
    "    XY=np.array([X.flatten(),Y.flatten()]).T\n",
    "    #print(XY)\n",
    "\n",
    "\n",
    "    x_points1,x_points2,y_points1,y_points2 = points(data_1,data_2,XY)\n",
    "\n",
    "\n",
    "    # Main scatter plot and plot annotation\n",
    "    f, ax = plt.subplots(figsize=(7, 7))\n",
    "    ax.scatter(x_points1, x_points2, marker='o', color='green', s=40, alpha=0.2)\n",
    "    ax.scatter(y_points1, y_points2, marker='o', color='#ADD8E6', s=40, alpha=0.2)\n",
    "    ax.scatter([i[0] for i in data_1_train], [i[1] for i in data_1_train], marker='o', color='green', s=40, alpha=1)\n",
    "    ax.scatter([i[0] for i in data_2_train], [i[1] for i in data_2_train], marker='o', color='blue', s=40, alpha=1)\n",
    "    plt.ylabel('x2')\n",
    "    plt.xlabel('x1')\n",
    "    plt.legend(['Class1 (green)', 'Class3 (blue)'], loc='upper right') \n",
    "    plt.title('Decision region plot - class 1 vs class 3')\n",
    "\n",
    "    plt.xlim(mini1, maxi1)\n",
    "    plt.ylim(mini2,maxi2)\n",
    "\n",
    "    plt.show()\n",
    "    f.savefig('cv213.jpg')"
   ]
  },
  {
   "cell_type": "code",
   "execution_count": 51,
   "metadata": {},
   "outputs": [
    {
     "name": "stderr",
     "output_type": "stream",
     "text": [
      "/usr/lib/python3/dist-packages/matplotlib/collections.py:571: FutureWarning: elementwise comparison failed; returning scalar instead, but in the future will perform elementwise comparison\n",
      "  if self._edgecolors == str('face'):\n"
     ]
    }
   ],
   "source": [
    "cvc2(class1_train,class1,class3_train,class3)\n",
    "#cvc2(class2_train,class2,class3_train,class3)\n",
    "#cvc2(class2_train,class2,class3_train,class3)"
   ]
  },
  {
   "cell_type": "code",
   "execution_count": 52,
   "metadata": {},
   "outputs": [],
   "source": [
    "def allclass2(data_1_train,data_1,data_2_train,data_2,data_3_train,data_3):\n",
    "    \n",
    "    def G(pos,mu,cov_matrix):        \n",
    "        n = 2\n",
    "        Sigma_det = np.linalg.det(cov_matrix)\n",
    "        N = np.sqrt((2*np.pi)**n * Sigma_det)\n",
    "        fac = np.einsum('...k,kl,...l->...', pos-mu, np.linalg.inv(cov_matrix), pos-mu)\n",
    "\n",
    "        return np.exp(-fac / 2) / N  \n",
    "    \n",
    "    def points(data1,data2,data3,grid):\n",
    "\n",
    "        x_points1 = []\n",
    "        x_points2 = []\n",
    "        y_points1 = []\n",
    "        y_points2 = []\n",
    "        z_points1 = []\n",
    "        z_points2 = []\n",
    "\n",
    "        for i in grid:\n",
    "            pred1 = arg_max(g2(i,covariance_matrix2,data1['mean']),g2(i,covariance_matrix2,data2['mean']),g2(i,covariance_matrix2,data3['mean']))\n",
    "            if pred1==1:\n",
    "                x_points1.append(i[0])\n",
    "                x_points2.append(i[1])\n",
    "            elif pred1==2:\n",
    "                y_points1.append(i[0])\n",
    "                y_points2.append(i[1])\n",
    "            else:\n",
    "                z_points1.append(i[0])\n",
    "                z_points2.append(i[1])\n",
    "        return x_points1,x_points2,y_points1,y_points2,z_points1,z_points2        \n",
    "\n",
    "\n",
    "    min1,max1,min2,max2 = min_max(data_1_train)\n",
    "    min21,max21,min22,max22= min_max(data_2_train)\n",
    "    min31,max31,min32,max32= min_max(data_3_train)\n",
    "\n",
    "    mini1 = min(min1,max1,min21,max21,min31,max31)\n",
    "    mini2 = min(min2,max2,min22,max22,min32,max32)\n",
    "    maxi1 = max(min1,max1,min21,max21,min31,max31)\n",
    "    maxi2 = max(min2,max2,min22,max22,min32,max32)\n",
    "\n",
    "    mini1 = mini1-1\n",
    "    maxi1 = maxi1+1\n",
    "    mini2 = mini2-1\n",
    "    maxi2 = maxi2+1\n",
    "    x = np.arange(mini1,maxi1 , 0.1)\n",
    "    y = np.arange(mini2, maxi2, 0.1)\n",
    "    X,Y = np.meshgrid(x,y)\n",
    "    XY=np.array([X.flatten(),Y.flatten()]).T\n",
    "\n",
    "\n",
    "    x_points1,x_points2,y_points1,y_points2,z_points1,z_points2 = points(data_1,data_2,data_3,XY)\n",
    "    \n",
    "    \n",
    "    x1= np.arange(min(x_points1),max(x_points1) , 0.1)\n",
    "    y1 = np.arange(min(x_points2), max(x_points2), 0.1)\n",
    "    X1,Y1 = np.meshgrid(x1,y1)\n",
    "    c1_pos=np.zeros((500,500,500))\n",
    "    c1_pos = np.empty(X1.shape + (2,))\n",
    "    c1_pos[:, :, 0] = X1\n",
    "    c1_pos[:, :, 1] = Y1\n",
    "    Z1 = G(c1_pos,class1['mean'],covariance_matrix2)\n",
    "    \n",
    "    x2= np.arange(min(y_points1),max(y_points1) , 0.1)\n",
    "    y2 = np.arange(min(y_points2), max(y_points2), 0.1)\n",
    "    X2,Y2 = np.meshgrid(x2,y2)\n",
    "    c2_pos=np.zeros((500,500,500))\n",
    "    c2_pos = np.empty(X2.shape + (2,))\n",
    "    c2_pos[:, :, 0] = X2\n",
    "    c2_pos[:, :, 1] = Y2\n",
    "    Z2 = G(c2_pos,class2['mean'],covariance_matrix2)\n",
    "    \n",
    "    x3= np.arange(min(z_points1),max(z_points1) , 0.1)\n",
    "    y3 = np.arange(min(z_points2), max(z_points2), 0.1)\n",
    "    X3,Y3 = np.meshgrid(x3,y3)\n",
    "    c3_pos=np.zeros((500,500,500))\n",
    "    c3_pos = np.empty(X3.shape + (2,))\n",
    "    c3_pos[:, :, 0] = X3\n",
    "    c3_pos[:, :, 1] = Y3\n",
    "    Z3 = G(c3_pos,class3['mean'],covariance_matrix2)\n",
    "\n",
    "\n",
    "    # Main scatter plot and plot annotation\n",
    "    f, ax = plt.subplots(figsize=(7, 7))\n",
    "    ax.scatter(x_points1, x_points2, marker='o', color='green', s=40, alpha=0.2)\n",
    "    ax.scatter(y_points1, y_points2, marker='o', color='#ADD8E6', s=40, alpha=0.2)\n",
    "    ax.scatter(z_points1, z_points2, marker='o', color='red', s=40, alpha=0.2)\n",
    "\n",
    "    ax.scatter([i[0] for i in data_1_train], [i[1] for i in data_1_train], marker='o', color='green', s=40, alpha=1)\n",
    "    ax.scatter([i[0] for i in data_2_train], [i[1] for i in data_2_train], marker='o', color='blue', s=40, alpha=1)\n",
    "    ax.scatter([i[0] for i in data_3_train], [i[1] for i in data_3_train], marker='o', color='#800000', s=40, alpha=1)\n",
    "\n",
    "    plt.ylabel('x2')\n",
    "    plt.xlabel('x1')\n",
    "    plt.legend(['Class1 (green)', 'Class2 (blue)','Class3 (red)'], loc='upper right') \n",
    "    plt.title('Decision region plot - class 1 vs class 2 vs class3')\n",
    "    \n",
    "    \n",
    "    plt.contour(X1, Y1, Z1, colors='black');\n",
    "    plt.contour(X2, Y2, Z2, colors='black');\n",
    "    plt.contour(X3, Y3, Z3, colors='black');\n",
    "\n",
    "    plt.xlim(mini1, maxi1)\n",
    "    plt.ylim(mini2,maxi2)\n",
    "\n",
    "    plt.show()\n",
    "    f.savefig('countourNLS2.jpg')"
   ]
  },
  {
   "cell_type": "code",
   "execution_count": 53,
   "metadata": {},
   "outputs": [
    {
     "name": "stderr",
     "output_type": "stream",
     "text": [
      "/usr/local/lib/python3.4/dist-packages/numpy/ma/core.py:6385: MaskedArrayFutureWarning: In the future the default for ma.maximum.reduce will be axis=0, not the current None, to match np.maximum.reduce. Explicitly pass 0 or None to silence this warning.\n",
      "  return self.reduce(a)\n",
      "/usr/local/lib/python3.4/dist-packages/numpy/ma/core.py:6385: MaskedArrayFutureWarning: In the future the default for ma.minimum.reduce will be axis=0, not the current None, to match np.minimum.reduce. Explicitly pass 0 or None to silence this warning.\n",
      "  return self.reduce(a)\n",
      "/usr/lib/python3/dist-packages/matplotlib/collections.py:631: FutureWarning: elementwise comparison failed; returning scalar instead, but in the future will perform elementwise comparison\n",
      "  if self._edgecolors_original != str('face'):\n",
      "/usr/lib/python3/dist-packages/matplotlib/collections.py:571: FutureWarning: elementwise comparison failed; returning scalar instead, but in the future will perform elementwise comparison\n",
      "  if self._edgecolors == str('face'):\n"
     ]
    }
   ],
   "source": [
    "allclass2(class1_train,class1,class2_train,class2,class3_train,class3)"
   ]
  },
  {
   "cell_type": "markdown",
   "metadata": {},
   "source": [
    "CASE3:"
   ]
  },
  {
   "cell_type": "code",
   "execution_count": 56,
   "metadata": {},
   "outputs": [],
   "source": [
    "def cvc34(data_1_train,data_1,data_2_train,data_2,cov_mat1,cov_mat2):\n",
    "    def points(data1,data2,grid):\n",
    "\n",
    "        x_points1 = []\n",
    "        x_points2 = []\n",
    "        y_points1 = []\n",
    "        y_points2 = []\n",
    "\n",
    "        for i in grid:\n",
    "            if g34(i,cov_mat1,data1['mean'])>g34(i,cov_mat2,data2['mean']):\n",
    "                x_points1.append(i[0])\n",
    "                x_points2.append(i[1])\n",
    "            else:\n",
    "                y_points1.append(i[0])\n",
    "                y_points2.append(i[1])\n",
    "        return x_points1,x_points2,y_points1,y_points2        \n",
    "\n",
    "\n",
    "    min1,max1,min2,max2 = min_max(data_1_train)\n",
    "    min21,max21,min22,max22= min_max(data_2_train)\n",
    "\n",
    "    mini1 = min(min1,max1,min21,max21)\n",
    "    mini2 = min(min2,max2,min22,max22)\n",
    "    maxi1 = max(min1,max1,min21,max21)\n",
    "    maxi2 = max(min2,max2,min22,max22)\n",
    "\n",
    "    mini1 = mini1-1\n",
    "    maxi1 = maxi1+1\n",
    "    mini2 = mini2-1\n",
    "    maxi2 = maxi2+1\n",
    "    x = np.arange(mini1,maxi1 , 0.1)\n",
    "    y = np.arange(mini2, maxi2, 0.1)\n",
    "    X,Y = np.meshgrid(x,y)\n",
    "    XY=np.array([X.flatten(),Y.flatten()]).T\n",
    "    #print(XY)\n",
    "\n",
    "\n",
    "    x_points1,x_points2,y_points1,y_points2 = points(data_1,data_2,XY)\n",
    "\n",
    "\n",
    "    # Main scatter plot and plot annotation\n",
    "    f, ax = plt.subplots(figsize=(7, 7))\n",
    "    ax.scatter(x_points1, x_points2, marker='o', color='green', s=40, alpha=0.2)\n",
    "    ax.scatter(y_points1, y_points2, marker='o', color='#ADD8E6', s=40, alpha=0.2)\n",
    "    ax.scatter([i[0] for i in data_1_train], [i[1] for i in data_1_train], marker='o', color='green', s=40, alpha=1)\n",
    "    ax.scatter([i[0] for i in data_2_train], [i[1] for i in data_2_train], marker='o', color='blue', s=40, alpha=1)\n",
    "    plt.ylabel('x2')\n",
    "    plt.xlabel('x1')\n",
    "\n",
    "    \n",
    "    plt.xlim(mini1, maxi1)\n",
    "    plt.ylim(mini2,maxi2)\n",
    "    plt.legend(['Class1 (green)', 'Class2 (blue)'], loc='upper right') \n",
    "    plt.title('Decision region plot - class 1 vs class 2')\n",
    "\n",
    "    plt.show()\n",
    "    f.savefig('cvc412.jpg')"
   ]
  },
  {
   "cell_type": "code",
   "execution_count": 57,
   "metadata": {},
   "outputs": [
    {
     "name": "stderr",
     "output_type": "stream",
     "text": [
      "/usr/lib/python3/dist-packages/matplotlib/collections.py:571: FutureWarning: elementwise comparison failed; returning scalar instead, but in the future will perform elementwise comparison\n",
      "  if self._edgecolors == str('face'):\n"
     ]
    }
   ],
   "source": [
    "#cvc34(class1_train,class1,class2_train,class2,covariance_matrix41,covariance_matrix42)\n",
    "cvc34(class1_train,class1,class2_train,class2,covariance_matrix41,covariance_matrix42)\n",
    "#cvc34(class2_train,class2,class3_train,class3,covariance_matrix32,covariance_matrix33)\n",
    "#cvc34(class1_train,class1,class3_train,class3,covariance_matrix41,covariance_matrix43)"
   ]
  },
  {
   "cell_type": "code",
   "execution_count": 60,
   "metadata": {},
   "outputs": [],
   "source": [
    "def allclass34(data_1_train,data_1,data_2_train,data_2,data_3_train,data_3,cov_mat1,cov_mat2,cov_mat3):\n",
    "    \n",
    "    \n",
    "    def G(pos,mu,cov_matrix):        \n",
    "        n = 2\n",
    "        Sigma_det = np.linalg.det(cov_matrix)\n",
    "        N = np.sqrt((2*np.pi)**n * Sigma_det)\n",
    "        fac = np.einsum('...k,kl,...l->...', pos-mu, np.linalg.inv(cov_matrix), pos-mu)\n",
    "\n",
    "        return np.exp(-fac / 2) / N    \n",
    "    \n",
    "    def points(data1,data2,data3,grid):\n",
    "\n",
    "        x_points1 = []\n",
    "        x_points2 = []\n",
    "        y_points1 = []\n",
    "        y_points2 = []\n",
    "        z_points1 = []\n",
    "        z_points2 = []\n",
    "\n",
    "        for i in grid:\n",
    "            pred1 = arg_max(g34(i,cov_mat1,data1['mean']),g34(i,cov_mat2,data2['mean']),g34(i,cov_mat3,data3['mean']))\n",
    "            if pred1==1:\n",
    "                x_points1.append(i[0])\n",
    "                x_points2.append(i[1])\n",
    "            elif pred1==2:\n",
    "                y_points1.append(i[0])\n",
    "                y_points2.append(i[1])\n",
    "            else:\n",
    "                z_points1.append(i[0])\n",
    "                z_points2.append(i[1])\n",
    "        return x_points1,x_points2,y_points1,y_points2,z_points1,z_points2        \n",
    "\n",
    "\n",
    "    min1,max1,min2,max2 = min_max(data_1_train)\n",
    "    min21,max21,min22,max22= min_max(data_2_train)\n",
    "    min31,max31,min32,max32= min_max(data_3_train)\n",
    "\n",
    "    mini1 = min(min1,max1,min21,max21,min31,max31)\n",
    "    mini2 = min(min2,max2,min22,max22,min32,max32)\n",
    "    maxi1 = max(min1,max1,min21,max21,min31,max31)\n",
    "    maxi2 = max(min2,max2,min22,max22,min32,max32)\n",
    "\n",
    "    mini1 = mini1-1\n",
    "    maxi1 = maxi1+1\n",
    "    mini2 = mini2-1\n",
    "    maxi2 = maxi2+1\n",
    "    x = np.arange(mini1,maxi1 , 0.1)\n",
    "    y = np.arange(mini2, maxi2, 0.1)\n",
    "    X,Y = np.meshgrid(x,y)\n",
    "    XY=np.array([X.flatten(),Y.flatten()]).T\n",
    "    #print(XY)\n",
    "\n",
    "\n",
    "    x_points1,x_points2,y_points1,y_points2,z_points1,z_points2 = points(data_1,data_2,data_3,XY)\n",
    "\n",
    "\n",
    "    x1= np.arange(min(x_points1),max(x_points1) , 0.1)\n",
    "    y1 = np.arange(min(x_points2), max(x_points2), 0.1)\n",
    "    X1,Y1 = np.meshgrid(x1,y1)\n",
    "    c1_pos=np.zeros((100,100,100))\n",
    "    c1_pos = np.empty(X1.shape + (2,))\n",
    "    c1_pos[:, :, 0] = X1\n",
    "    c1_pos[:, :, 1] = Y1\n",
    "    Z1 = G(c1_pos,class1['mean'],covariance_matrix31)\n",
    "    #Z1 = G(c1_pos,class1['mean'],covariance_matrix41)\n",
    "    \n",
    "    x2= np.arange(min(y_points1),max(y_points1) , 0.1)\n",
    "    y2 = np.arange(min(y_points2), max(y_points2), 0.1)\n",
    "    X2,Y2 = np.meshgrid(x2,y2)\n",
    "    c2_pos=np.zeros((100,100,100))\n",
    "    c2_pos = np.empty(X2.shape + (2,))\n",
    "    c2_pos[:, :, 0] = X2\n",
    "    c2_pos[:, :, 1] = Y2\n",
    "    Z2 = G(c2_pos,class2['mean'],covariance_matrix32)\n",
    "    #Z1 = G(c1_pos,class1['mean'],covariance_matrix42)\n",
    "    \n",
    "    x3= np.arange(min(z_points1),max(z_points1) , 0.1)\n",
    "    y3 = np.arange(min(z_points2), max(z_points2), 0.1)\n",
    "    X3,Y3 = np.meshgrid(x3,y3)\n",
    "    c3_pos=np.zeros((100,100,100))\n",
    "    c3_pos = np.empty(X3.shape + (2,))\n",
    "    c3_pos[:, :, 0] = X3\n",
    "    c3_pos[:, :, 1] = Y3\n",
    "    Z3 = G(c3_pos,class3['mean'],covariance_matrix33)\n",
    "    #Z1 = G(c1_pos,class1['mean'],covariance_matrix43)\n",
    "    \n",
    "\n",
    "    \n",
    "    \n",
    "    # Main scatter plot and plot annotation\n",
    "    f, ax = plt.subplots(figsize=(7, 7))\n",
    "    ax.scatter(x_points1, x_points2, marker='o', color='green', s=40, alpha=0.2)\n",
    "    ax.scatter(y_points1, y_points2, marker='o', color='#ADD8E6', s=40, alpha=0.2)\n",
    "    ax.scatter(z_points1, z_points2, marker='o', color='red', s=40, alpha=0.2)\n",
    "\n",
    "    ax.scatter([i[0] for i in data_1_train], [i[1] for i in data_1_train], marker='o', color='green', s=40, alpha=1)\n",
    "    ax.scatter([i[0] for i in data_2_train], [i[1] for i in data_2_train], marker='o', color='blue', s=40, alpha=1)\n",
    "    ax.scatter([i[0] for i in data_3_train], [i[1] for i in data_3_train], marker='o', color='#800000', s=40, alpha=1)\n",
    "\n",
    "    plt.ylabel('x2')\n",
    "    plt.xlabel('x1')\n",
    "    plt.legend(['Class1 (green)', 'Class2 (blue)','Class3 (red)'], loc='upper right') \n",
    "    plt.title('Decision region plot - class 1 vs class 2 vs class3')\n",
    "\n",
    "    plt.contour(X1, Y1, Z1, colors='black');\n",
    "    plt.contour(X2, Y2, Z2, colors='black');\n",
    "    plt.contour(X3, Y3, Z3, colors='black');\n",
    "    \n",
    "    plt.xlim(mini1, maxi1)\n",
    "    plt.ylim(mini2,maxi2)\n",
    "\n",
    "    plt.show()\n",
    "    f.savefig('contourNL3.jpg')"
   ]
  },
  {
   "cell_type": "code",
   "execution_count": 61,
   "metadata": {},
   "outputs": [
    {
     "name": "stderr",
     "output_type": "stream",
     "text": [
      "/usr/local/lib/python3.4/dist-packages/numpy/ma/core.py:6385: MaskedArrayFutureWarning: In the future the default for ma.maximum.reduce will be axis=0, not the current None, to match np.maximum.reduce. Explicitly pass 0 or None to silence this warning.\n",
      "  return self.reduce(a)\n",
      "/usr/local/lib/python3.4/dist-packages/numpy/ma/core.py:6385: MaskedArrayFutureWarning: In the future the default for ma.minimum.reduce will be axis=0, not the current None, to match np.minimum.reduce. Explicitly pass 0 or None to silence this warning.\n",
      "  return self.reduce(a)\n",
      "/usr/lib/python3/dist-packages/matplotlib/collections.py:631: FutureWarning: elementwise comparison failed; returning scalar instead, but in the future will perform elementwise comparison\n",
      "  if self._edgecolors_original != str('face'):\n",
      "/usr/lib/python3/dist-packages/matplotlib/collections.py:571: FutureWarning: elementwise comparison failed; returning scalar instead, but in the future will perform elementwise comparison\n",
      "  if self._edgecolors == str('face'):\n"
     ]
    }
   ],
   "source": [
    "allclass34(class1_train,class1,class2_train,class2,class3_train,class3,covariance_matrix31,covariance_matrix32,covariance_matrix33)"
   ]
  },
  {
   "cell_type": "code",
   "execution_count": 64,
   "metadata": {},
   "outputs": [],
   "source": [
    "def allclass1c(data_1_train,data_1,data_2_train,data_2,data_3_train,data_3):\n",
    "    \n",
    "    def G(pos,mu,cov_matrix):        \n",
    "        n = 2\n",
    "        Sigma_det = np.linalg.det(cov_matrix)\n",
    "        N = np.sqrt((2*np.pi)**n * Sigma_det)\n",
    "        fac = np.einsum('...k,kl,...l->...', pos-mu, np.linalg.inv(cov_matrix), pos-mu)\n",
    "\n",
    "        return np.exp(-fac / 2) / N\n",
    "    \n",
    "    \n",
    "    def points(data1,data2,data3,grid):\n",
    "\n",
    "        x_points1 = []\n",
    "        x_points2 = []\n",
    "        y_points1 = []\n",
    "        y_points2 = []\n",
    "        z_points1 = []\n",
    "        z_points2 = []\n",
    "\n",
    "        for i in grid:\n",
    "            pred1 = arg_max(g(i,data1['mean'],mean_variance_all),g(i,data2['mean'],mean_variance_all),g(i,data3['mean'],mean_variance_all))\n",
    "            if pred1==1:\n",
    "                x_points1.append(i[0])\n",
    "                x_points2.append(i[1])\n",
    "            elif pred1==2:\n",
    "                y_points1.append(i[0])\n",
    "                y_points2.append(i[1])\n",
    "            else:\n",
    "                z_points1.append(i[0])\n",
    "                z_points2.append(i[1])\n",
    "        return x_points1,x_points2,y_points1,y_points2,z_points1,z_points2        \n",
    "\n",
    "\n",
    "    min1,max1,min2,max2 = min_max(data_1_train)\n",
    "    min21,max21,min22,max22= min_max(data_2_train)\n",
    "    min31,max31,min32,max32= min_max(data_3_train)\n",
    "\n",
    "    mini1 = min(min1,max1,min21,max21,min31,max31)\n",
    "    mini2 = min(min2,max2,min22,max22,min32,max32)\n",
    "    maxi1 = max(min1,max1,min21,max21,min31,max31)\n",
    "    maxi2 = max(min2,max2,min22,max22,min32,max32)\n",
    "\n",
    "    mini1 = mini1-1\n",
    "    maxi1 = maxi1+1\n",
    "    mini2 = mini2-1\n",
    "    maxi2 = maxi2+1\n",
    "    x = np.arange(mini1,maxi1 , 0.1)\n",
    "    y = np.arange(mini2, maxi2, 0.1)\n",
    "    X,Y = np.meshgrid(x,y)\n",
    "    XY=np.array([X.flatten(),Y.flatten()]).T\n",
    "    #print(XY)\n",
    "    print(X.shape)\n",
    "    print(Y.shape)\n",
    "\n",
    "    x_points1,x_points2,y_points1,y_points2,z_points1,z_points2 = points(data_1,data_2,data_3,XY)\n",
    "    \n",
    "    x1= np.arange(min(x_points1),max(x_points1) , 0.1)\n",
    "    y1 = np.arange(min(x_points2), max(x_points2), 0.1)\n",
    "    X1,Y1 = np.meshgrid(x1,y1)\n",
    "    c1_pos=np.zeros((100,100,100))\n",
    "    c1_pos = np.empty(X1.shape + (2,))\n",
    "    c1_pos[:, :, 0] = X1\n",
    "    c1_pos[:, :, 1] = Y1\n",
    "    Z1 = G(c1_pos,class1['mean'],covariance_matrix1)\n",
    "    \n",
    "    x2= np.arange(min(y_points1),max(y_points1) , 0.1)\n",
    "    y2 = np.arange(min(y_points2), max(y_points2), 0.1)\n",
    "    X2,Y2 = np.meshgrid(x2,y2)\n",
    "    c2_pos=np.zeros((100,100,100))\n",
    "    c2_pos = np.empty(X2.shape + (2,))\n",
    "    c2_pos[:, :, 0] = X2\n",
    "    c2_pos[:, :, 1] = Y2\n",
    "    Z2 = G(c2_pos,class2['mean'],covariance_matrix1)\n",
    "    \n",
    "    x3= np.arange(min(z_points1),max(z_points1) , 0.1)\n",
    "    y3 = np.arange(min(z_points2), max(z_points2), 0.1)\n",
    "    X3,Y3 = np.meshgrid(x3,y3)\n",
    "    c3_pos=np.zeros((100,100,100))\n",
    "    c3_pos = np.empty(X3.shape + (2,))\n",
    "    c3_pos[:, :, 0] = X3\n",
    "    c3_pos[:, :, 1] = Y3\n",
    "    Z3 = G(c3_pos,class3['mean'],covariance_matrix1)\n",
    "    \n",
    "    print(X1.shape,Y1.shape)\n",
    "    print(Z1.shape)\n",
    "        \n",
    "    # Main scatter plot and plot annotation\n",
    "    f, ax = plt.subplots(figsize=(7, 7))\n",
    "    ax.scatter(x_points1, x_points2, marker='o', color='green', s=40, alpha=0.2)\n",
    "    ax.scatter(y_points1, y_points2, marker='o', color='#ADD8E6', s=40, alpha=0.2)\n",
    "    ax.scatter(z_points1, z_points2, marker='o', color='red', s=40, alpha=0.2)\n",
    "\n",
    "    ax.scatter([i[0] for i in data_1_train], [i[1] for i in data_1_train], marker='o', color='green', s=40, alpha=1)\n",
    "    ax.scatter([i[0] for i in data_2_train], [i[1] for i in data_2_train], marker='o', color='blue', s=40, alpha=1)\n",
    "    ax.scatter([i[0] for i in data_3_train], [i[1] for i in data_3_train], marker='o', color='#800000', s=40, alpha=1)\n",
    "\n",
    "    plt.ylabel('x2')\n",
    "    plt.xlabel('x1')\n",
    "    plt.legend(['Class1 (green)', 'Class2 (blue)','Class3 (red)'], loc='upper right') \n",
    "    plt.title('Decision region plot - class 1 vs class 2 vs class3')\n",
    "    \n",
    "    \n",
    "    \n",
    "    plt.contour(X1, Y1, Z1, colors='black');\n",
    "    plt.contour(X2, Y2, Z2, colors='black');\n",
    "    plt.contour(X3, Y3, Z3, colors='black');\n",
    "    \n",
    "    \n",
    "    plt.xlim(mini1, maxi1)\n",
    "    plt.ylim(mini2,maxi2)\n",
    "\n",
    "    plt.show()\n",
    "    f.savefig('countourNLS1.jpg')"
   ]
  },
  {
   "cell_type": "code",
   "execution_count": 65,
   "metadata": {},
   "outputs": [
    {
     "name": "stdout",
     "output_type": "stream",
     "text": [
      "(48, 87)\n",
      "(48, 87)\n",
      "(38, 52) (38, 52)\n",
      "(38, 52)\n"
     ]
    },
    {
     "name": "stderr",
     "output_type": "stream",
     "text": [
      "/usr/local/lib/python3.4/dist-packages/numpy/ma/core.py:6385: MaskedArrayFutureWarning: In the future the default for ma.maximum.reduce will be axis=0, not the current None, to match np.maximum.reduce. Explicitly pass 0 or None to silence this warning.\n",
      "  return self.reduce(a)\n",
      "/usr/local/lib/python3.4/dist-packages/numpy/ma/core.py:6385: MaskedArrayFutureWarning: In the future the default for ma.minimum.reduce will be axis=0, not the current None, to match np.minimum.reduce. Explicitly pass 0 or None to silence this warning.\n",
      "  return self.reduce(a)\n",
      "/usr/lib/python3/dist-packages/matplotlib/collections.py:631: FutureWarning: elementwise comparison failed; returning scalar instead, but in the future will perform elementwise comparison\n",
      "  if self._edgecolors_original != str('face'):\n",
      "/usr/lib/python3/dist-packages/matplotlib/collections.py:571: FutureWarning: elementwise comparison failed; returning scalar instead, but in the future will perform elementwise comparison\n",
      "  if self._edgecolors == str('face'):\n"
     ]
    }
   ],
   "source": [
    "allclass1c(class1_train,class1,class2_train,class2,class3_train,class3)"
   ]
  }
 ],
 "metadata": {
  "kernelspec": {
   "display_name": "Python 3",
   "language": "python",
   "name": "python3"
  },
  "language_info": {
   "codemirror_mode": {
    "name": "ipython",
    "version": 3
   },
   "file_extension": ".py",
   "mimetype": "text/x-python",
   "name": "python",
   "nbconvert_exporter": "python",
   "pygments_lexer": "ipython3",
   "version": "3.4.2"
  }
 },
 "nbformat": 4,
 "nbformat_minor": 2
}
